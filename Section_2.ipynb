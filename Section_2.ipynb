{
  "cells": [
    {
      "attachments": {},
      "cell_type": "markdown",
      "metadata": {},
      "source": [
        "Section 2"
      ]
    },
    {
      "cell_type": "code",
      "execution_count": 11,
      "metadata": {
        "colab": {
          "base_uri": "https://localhost:8080/"
        },
        "id": "c43HX435pQF9",
        "outputId": "924c7ba1-cb67-4daf-fe26-20058fa1c7ce"
      },
      "outputs": [
        {
          "name": "stdout",
          "output_type": "stream",
          "text": [
            "Requirement already satisfied: torch in c:\\users\\diamo\\appdata\\local\\programs\\python\\python310\\lib\\site-packages (2.0.1+cu117)\n",
            "Requirement already satisfied: filelock in c:\\users\\diamo\\appdata\\local\\programs\\python\\python310\\lib\\site-packages (from torch) (3.9.0)\n",
            "Requirement already satisfied: typing-extensions in c:\\users\\diamo\\appdata\\local\\programs\\python\\python310\\lib\\site-packages (from torch) (4.4.0)\n",
            "Requirement already satisfied: sympy in c:\\users\\diamo\\appdata\\local\\programs\\python\\python310\\lib\\site-packages (from torch) (1.11.1)\n",
            "Requirement already satisfied: networkx in c:\\users\\diamo\\appdata\\local\\programs\\python\\python310\\lib\\site-packages (from torch) (2.8)\n",
            "Requirement already satisfied: jinja2 in c:\\users\\diamo\\appdata\\local\\programs\\python\\python310\\lib\\site-packages (from torch) (3.1.2)\n",
            "Requirement already satisfied: MarkupSafe>=2.0 in c:\\users\\diamo\\appdata\\local\\programs\\python\\python310\\lib\\site-packages (from jinja2->torch) (2.1.2)\n",
            "Requirement already satisfied: mpmath>=0.19 in c:\\users\\diamo\\appdata\\local\\programs\\python\\python310\\lib\\site-packages (from sympy->torch) (1.2.1)\n",
            "Requirement already satisfied: torchvision in c:\\users\\diamo\\appdata\\local\\programs\\python\\python310\\lib\\site-packages (0.15.2+cu117)\n",
            "Requirement already satisfied: numpy in c:\\users\\diamo\\appdata\\local\\programs\\python\\python310\\lib\\site-packages (from torchvision) (1.24.1)\n",
            "Requirement already satisfied: requests in c:\\users\\diamo\\appdata\\local\\programs\\python\\python310\\lib\\site-packages (from torchvision) (2.28.1)\n",
            "Requirement already satisfied: torch==2.0.1 in c:\\users\\diamo\\appdata\\local\\programs\\python\\python310\\lib\\site-packages (from torchvision) (2.0.1+cu117)\n",
            "Requirement already satisfied: pillow!=8.3.*,>=5.3.0 in c:\\users\\diamo\\appdata\\local\\programs\\python\\python310\\lib\\site-packages (from torchvision) (9.1.0)\n",
            "Requirement already satisfied: filelock in c:\\users\\diamo\\appdata\\local\\programs\\python\\python310\\lib\\site-packages (from torch==2.0.1->torchvision) (3.9.0)\n",
            "Requirement already satisfied: typing-extensions in c:\\users\\diamo\\appdata\\local\\programs\\python\\python310\\lib\\site-packages (from torch==2.0.1->torchvision) (4.4.0)\n",
            "Requirement already satisfied: sympy in c:\\users\\diamo\\appdata\\local\\programs\\python\\python310\\lib\\site-packages (from torch==2.0.1->torchvision) (1.11.1)\n",
            "Requirement already satisfied: networkx in c:\\users\\diamo\\appdata\\local\\programs\\python\\python310\\lib\\site-packages (from torch==2.0.1->torchvision) (2.8)\n",
            "Requirement already satisfied: jinja2 in c:\\users\\diamo\\appdata\\local\\programs\\python\\python310\\lib\\site-packages (from torch==2.0.1->torchvision) (3.1.2)\n",
            "Requirement already satisfied: charset-normalizer<3,>=2 in c:\\users\\diamo\\appdata\\local\\programs\\python\\python310\\lib\\site-packages (from requests->torchvision) (2.1.1)\n",
            "Requirement already satisfied: idna<4,>=2.5 in c:\\users\\diamo\\appdata\\local\\programs\\python\\python310\\lib\\site-packages (from requests->torchvision) (3.4)\n",
            "Requirement already satisfied: urllib3<1.27,>=1.21.1 in c:\\users\\diamo\\appdata\\local\\programs\\python\\python310\\lib\\site-packages (from requests->torchvision) (1.26.13)\n",
            "Requirement already satisfied: certifi>=2017.4.17 in c:\\users\\diamo\\appdata\\local\\programs\\python\\python310\\lib\\site-packages (from requests->torchvision) (2022.12.7)\n",
            "Requirement already satisfied: MarkupSafe>=2.0 in c:\\users\\diamo\\appdata\\local\\programs\\python\\python310\\lib\\site-packages (from jinja2->torch==2.0.1->torchvision) (2.1.2)\n",
            "Requirement already satisfied: mpmath>=0.19 in c:\\users\\diamo\\appdata\\local\\programs\\python\\python310\\lib\\site-packages (from sympy->torch==2.0.1->torchvision) (1.2.1)\n",
            "Requirement already satisfied: torchsummary in c:\\users\\diamo\\appdata\\local\\programs\\python\\python310\\lib\\site-packages (1.5.1)\n",
            "Requirement already satisfied: skorch in c:\\users\\diamo\\appdata\\local\\programs\\python\\python310\\lib\\site-packages (0.13.0)\n",
            "Requirement already satisfied: numpy>=1.13.3 in c:\\users\\diamo\\appdata\\local\\programs\\python\\python310\\lib\\site-packages (from skorch) (1.24.1)\n",
            "Requirement already satisfied: scikit-learn>=0.22.0 in c:\\users\\diamo\\appdata\\local\\programs\\python\\python310\\lib\\site-packages (from skorch) (1.2.2)\n",
            "Requirement already satisfied: scipy>=1.1.0 in c:\\users\\diamo\\appdata\\local\\programs\\python\\python310\\lib\\site-packages (from skorch) (1.8.0)\n",
            "Requirement already satisfied: tabulate>=0.7.7 in c:\\users\\diamo\\appdata\\local\\programs\\python\\python310\\lib\\site-packages (from skorch) (0.9.0)\n",
            "Requirement already satisfied: tqdm>=4.14.0 in c:\\users\\diamo\\appdata\\local\\programs\\python\\python310\\lib\\site-packages (from skorch) (4.65.0)\n",
            "Requirement already satisfied: joblib>=1.1.1 in c:\\users\\diamo\\appdata\\local\\programs\\python\\python310\\lib\\site-packages (from scikit-learn>=0.22.0->skorch) (1.2.0)\n",
            "Requirement already satisfied: threadpoolctl>=2.0.0 in c:\\users\\diamo\\appdata\\local\\programs\\python\\python310\\lib\\site-packages (from scikit-learn>=0.22.0->skorch) (3.1.0)\n",
            "Requirement already satisfied: colorama in c:\\users\\diamo\\appdata\\roaming\\python\\python310\\site-packages (from tqdm>=4.14.0->skorch) (0.4.6)\n"
          ]
        }
      ],
      "source": [
        "!pip install torch\n",
        "!pip install torchvision\n",
        "!pip install torchsummary\n",
        "!pip install skorch"
      ]
    },
    {
      "cell_type": "code",
      "execution_count": 12,
      "metadata": {
        "colab": {
          "base_uri": "https://localhost:8080/"
        },
        "id": "Ubt0L3zUpSko",
        "outputId": "55d075fc-81af-404b-d3d3-a3bf3e8451b8"
      },
      "outputs": [
        {
          "name": "stdout",
          "output_type": "stream",
          "text": [
            "cuda\n"
          ]
        }
      ],
      "source": [
        "import numpy as np\n",
        "import torch\n",
        "import torch.nn as nn\n",
        "from torch.optim import optimizer\n",
        "from torchvision import datasets\n",
        "from torchvision import transforms\n",
        "from torch.utils.data.sampler import SubsetRandomSampler\n",
        "from torch.utils.data import DataLoader\n",
        "from torchsummary import summary\n",
        "import gc\n",
        "import time\n",
        "import skorch\n",
        "\n",
        "#from d2l import torch as d2l\n",
        "device = 'cuda' if torch.cuda.is_available() else 'cpu'\n",
        "print(device)"
      ]
    },
    {
      "cell_type": "code",
      "execution_count": 13,
      "metadata": {},
      "outputs": [
        {
          "data": {
            "text/plain": [
              "<torch._C.Generator at 0x1d123466090>"
            ]
          },
          "execution_count": 13,
          "metadata": {},
          "output_type": "execute_result"
        }
      ],
      "source": [
        "seed = 0\n",
        "torch.manual_seed(seed)"
      ]
    },
    {
      "cell_type": "code",
      "execution_count": 14,
      "metadata": {
        "id": "7H2hPYfRpV5e"
      },
      "outputs": [],
      "source": [
        "class ResidualBlock(nn.Module):\n",
        "    def __init__(self, in_channels, out_channels, stride = 1, downsample = None):\n",
        "        super(ResidualBlock, self).__init__()\n",
        "        self.conv1 = nn.Sequential(\n",
        "                        nn.Conv2d(in_channels, out_channels, kernel_size = 3, stride = stride, padding = 1),\n",
        "                        nn.BatchNorm2d(out_channels),\n",
        "                        nn.ReLU())\n",
        "        self.conv2 = nn.Sequential(\n",
        "                        nn.Conv2d(out_channels, out_channels, kernel_size = 3, stride = 1, padding = 1),\n",
        "                        nn.BatchNorm2d(out_channels))\n",
        "        self.downsample = downsample\n",
        "        self.relu = nn.ReLU()\n",
        "        self.out_channels = out_channels\n",
        "        \n",
        "    def forward(self, x):\n",
        "        residual = x\n",
        "        out = self.conv1(x)\n",
        "        out = self.conv2(out)\n",
        "        if self.downsample:\n",
        "            residual = self.downsample(x)\n",
        "        out += residual\n",
        "        out = self.relu(out)\n",
        "        return out"
      ]
    },
    {
      "cell_type": "code",
      "execution_count": 37,
      "metadata": {
        "id": "m8D39OhlpXxe"
      },
      "outputs": [],
      "source": [
        "class ResNet(nn.Module):\n",
        "    def __init__(self, block, layers, num_classes = 10):\n",
        "        super(ResNet, self).__init__()\n",
        "        self.inplanes = 64\n",
        "        self.conv1 = nn.Sequential(\n",
        "                        nn.Conv2d(1, 64, kernel_size = 7, stride = 2, padding = 3),\n",
        "                        nn.BatchNorm2d(64),\n",
        "                        nn.ReLU())\n",
        "        self.maxpool = nn.MaxPool2d(kernel_size = 3, stride = 2, padding = 1)\n",
        "        self.layer0 = self._make_layer(block, 32, layers[0], stride = 1)\n",
        "        self.layer1 = self._make_layer(block, 64, layers[1], stride = 2)\n",
        "        self.layer2 = self._make_layer(block, 128, layers[2], stride = 2)\n",
        "        self.layer3 = self._make_layer(block, 256, layers[3], stride = 2)\n",
        "        self.avgpool = nn.AdaptiveAvgPool2d((1,1))\n",
        "        self.fc = nn.Linear(256, num_classes)\n",
        "        \n",
        "    def _make_layer(self, block, planes, blocks, stride=1):\n",
        "        downsample = None\n",
        "        if stride != 1 or self.inplanes != planes:\n",
        "            \n",
        "            downsample = nn.Sequential(\n",
        "                nn.Conv2d(self.inplanes, planes, kernel_size=1, stride=stride),\n",
        "                nn.BatchNorm2d(planes),\n",
        "            )\n",
        "        layers = []\n",
        "        layers.append(block(self.inplanes, planes, stride, downsample))\n",
        "        self.inplanes = planes\n",
        "        for i in range(1, blocks):\n",
        "            layers.append(block(self.inplanes, planes))\n",
        "\n",
        "        return nn.Sequential(*layers)\n",
        "    \n",
        "    \n",
        "    def forward(self, x):\n",
        "        x = self.conv1(x)\n",
        "        x = self.maxpool(x)\n",
        "        x = self.layer0(x)\n",
        "        x = self.layer1(x)\n",
        "        x = self.layer2(x)\n",
        "        x = self.layer3(x)\n",
        "\n",
        "        x = self.avgpool(x)\n",
        "        x = x.view(x.size(0), -1)\n",
        "        x = self.fc(x)\n",
        "\n",
        "        return x"
      ]
    },
    {
      "cell_type": "code",
      "execution_count": 29,
      "metadata": {
        "colab": {
          "base_uri": "https://localhost:8080/"
        },
        "id": "UuJ26a_qrrUe",
        "outputId": "4afcedbb-0282-4572-dfa7-a2fce6c79cf7"
      },
      "outputs": [
        {
          "name": "stdout",
          "output_type": "stream",
          "text": [
            "----------------------------------------------------------------\n",
            "        Layer (type)               Output Shape         Param #\n",
            "================================================================\n",
            "            Conv2d-1           [-1, 64, 24, 24]           3,200\n",
            "       BatchNorm2d-2           [-1, 64, 24, 24]             128\n",
            "              ReLU-3           [-1, 64, 24, 24]               0\n",
            "         MaxPool2d-4           [-1, 64, 12, 12]               0\n",
            "            Conv2d-5           [-1, 32, 12, 12]          18,464\n",
            "       BatchNorm2d-6           [-1, 32, 12, 12]              64\n",
            "              ReLU-7           [-1, 32, 12, 12]               0\n",
            "            Conv2d-8           [-1, 32, 12, 12]           9,248\n",
            "       BatchNorm2d-9           [-1, 32, 12, 12]              64\n",
            "           Conv2d-10           [-1, 32, 12, 12]           2,080\n",
            "      BatchNorm2d-11           [-1, 32, 12, 12]              64\n",
            "             ReLU-12           [-1, 32, 12, 12]               0\n",
            "    ResidualBlock-13           [-1, 32, 12, 12]               0\n",
            "           Conv2d-14           [-1, 32, 12, 12]           9,248\n",
            "      BatchNorm2d-15           [-1, 32, 12, 12]              64\n",
            "             ReLU-16           [-1, 32, 12, 12]               0\n",
            "           Conv2d-17           [-1, 32, 12, 12]           9,248\n",
            "      BatchNorm2d-18           [-1, 32, 12, 12]              64\n",
            "             ReLU-19           [-1, 32, 12, 12]               0\n",
            "    ResidualBlock-20           [-1, 32, 12, 12]               0\n",
            "           Conv2d-21             [-1, 64, 6, 6]          18,496\n",
            "      BatchNorm2d-22             [-1, 64, 6, 6]             128\n",
            "             ReLU-23             [-1, 64, 6, 6]               0\n",
            "           Conv2d-24             [-1, 64, 6, 6]          36,928\n",
            "      BatchNorm2d-25             [-1, 64, 6, 6]             128\n",
            "           Conv2d-26             [-1, 64, 6, 6]           2,112\n",
            "      BatchNorm2d-27             [-1, 64, 6, 6]             128\n",
            "             ReLU-28             [-1, 64, 6, 6]               0\n",
            "    ResidualBlock-29             [-1, 64, 6, 6]               0\n",
            "           Conv2d-30             [-1, 64, 6, 6]          36,928\n",
            "      BatchNorm2d-31             [-1, 64, 6, 6]             128\n",
            "             ReLU-32             [-1, 64, 6, 6]               0\n",
            "           Conv2d-33             [-1, 64, 6, 6]          36,928\n",
            "      BatchNorm2d-34             [-1, 64, 6, 6]             128\n",
            "             ReLU-35             [-1, 64, 6, 6]               0\n",
            "    ResidualBlock-36             [-1, 64, 6, 6]               0\n",
            "           Conv2d-37            [-1, 128, 3, 3]          73,856\n",
            "      BatchNorm2d-38            [-1, 128, 3, 3]             256\n",
            "             ReLU-39            [-1, 128, 3, 3]               0\n",
            "           Conv2d-40            [-1, 128, 3, 3]         147,584\n",
            "      BatchNorm2d-41            [-1, 128, 3, 3]             256\n",
            "           Conv2d-42            [-1, 128, 3, 3]           8,320\n",
            "      BatchNorm2d-43            [-1, 128, 3, 3]             256\n",
            "             ReLU-44            [-1, 128, 3, 3]               0\n",
            "    ResidualBlock-45            [-1, 128, 3, 3]               0\n",
            "           Conv2d-46            [-1, 128, 3, 3]         147,584\n",
            "      BatchNorm2d-47            [-1, 128, 3, 3]             256\n",
            "             ReLU-48            [-1, 128, 3, 3]               0\n",
            "           Conv2d-49            [-1, 128, 3, 3]         147,584\n",
            "      BatchNorm2d-50            [-1, 128, 3, 3]             256\n",
            "             ReLU-51            [-1, 128, 3, 3]               0\n",
            "    ResidualBlock-52            [-1, 128, 3, 3]               0\n",
            "           Conv2d-53            [-1, 256, 2, 2]         295,168\n",
            "      BatchNorm2d-54            [-1, 256, 2, 2]             512\n",
            "             ReLU-55            [-1, 256, 2, 2]               0\n",
            "           Conv2d-56            [-1, 256, 2, 2]         590,080\n",
            "      BatchNorm2d-57            [-1, 256, 2, 2]             512\n",
            "           Conv2d-58            [-1, 256, 2, 2]          33,024\n",
            "      BatchNorm2d-59            [-1, 256, 2, 2]             512\n",
            "             ReLU-60            [-1, 256, 2, 2]               0\n",
            "    ResidualBlock-61            [-1, 256, 2, 2]               0\n",
            "           Conv2d-62            [-1, 256, 2, 2]         590,080\n",
            "      BatchNorm2d-63            [-1, 256, 2, 2]             512\n",
            "             ReLU-64            [-1, 256, 2, 2]               0\n",
            "           Conv2d-65            [-1, 256, 2, 2]         590,080\n",
            "      BatchNorm2d-66            [-1, 256, 2, 2]             512\n",
            "             ReLU-67            [-1, 256, 2, 2]               0\n",
            "    ResidualBlock-68            [-1, 256, 2, 2]               0\n",
            "AdaptiveAvgPool2d-69            [-1, 256, 1, 1]               0\n",
            "           Linear-70                   [-1, 10]           2,570\n",
            "================================================================\n",
            "Total params: 2,813,738\n",
            "Trainable params: 2,813,738\n",
            "Non-trainable params: 0\n",
            "----------------------------------------------------------------\n",
            "Input size (MB): 0.01\n",
            "Forward/backward pass size (MB): 2.03\n",
            "Params size (MB): 10.73\n",
            "Estimated Total Size (MB): 12.77\n",
            "----------------------------------------------------------------\n"
          ]
        }
      ],
      "source": [
        "model = ResNet(ResidualBlock, [2,2,2,2]).to(device)\n",
        "summary(model, (1, 48, 48))\n"
      ]
    },
    {
      "cell_type": "code",
      "execution_count": 18,
      "metadata": {
        "colab": {
          "base_uri": "https://localhost:8080/"
        },
        "id": "xGeoETrjY6Ig",
        "outputId": "cc93a4e9-ab4c-4a7f-d261-6d97d78e1627"
      },
      "outputs": [
        {
          "name": "stdout",
          "output_type": "stream",
          "text": [
            "1\n"
          ]
        }
      ],
      "source": [
        "imsize = 48\n",
        "\n",
        "dataTrain = datasets.FashionMNIST(\n",
        "    root=\"dataset\",\n",
        "    train=True,\n",
        "    download=True,\n",
        "    transform=transforms.Compose([transforms.ToTensor(), transforms.Resize((imsize,imsize), antialias=True)])\n",
        ")\n",
        "dataValid = datasets.FashionMNIST(\n",
        "    root=\"dataset\",\n",
        "    train=False,\n",
        "    download=True,\n",
        "    transform=transforms.Compose([transforms.ToTensor(), transforms.Resize((imsize,imsize), antialias=True)])\n",
        ")\n",
        "\n",
        "\n",
        "print(len(dataValid[0][0]))\n",
        "\n",
        "valid_y = np.array([y for x,y in iter(dataValid)])\n",
        "test_y = np.array([y for x,y in iter(dataTrain)])"
      ]
    },
    {
      "attachments": {},
      "cell_type": "markdown",
      "metadata": {
        "id": "CNEepasRrtFi"
      },
      "source": [
        "Implementing Trainer"
      ]
    },
    {
      "cell_type": "code",
      "execution_count": 8,
      "metadata": {
        "id": "9hiT2e0qrspa"
      },
      "outputs": [],
      "source": [
        "def predict(model, loader_valid):\n",
        "  with torch.no_grad():\n",
        "    correct = 0\n",
        "    total = 0\n",
        "    for x,y in loader_valid:\n",
        "      x = x.to(device)\n",
        "      y = y.to(device)\n",
        "      output = model(x)\n",
        "      _, predicted = torch.max(output.data, 1)\n",
        "      total += y.size(0)\n",
        "      correct += (predicted == y).sum().item()\n",
        "      del x,y,output\n",
        "  return 100*(correct/total)\n",
        "\n",
        "\n",
        "#CLASStorch.optim.SGD(params, lr=<required parameter>, momentum=0, dampening=0, \n",
        "#weight_decay=0, nesterov=False, *, maximize=False, foreach=None, differentiable=False)\n",
        "def trainer(epochs, dataloader, model, lr, loader_valid):\n",
        "  optimizer = torch.optim.SGD(model.parameters(), lr)\n",
        "  loss_f = nn.CrossEntropyLoss()\n",
        "  print(\"Epoch, Loss, Time, val_acc\")\n",
        "\n",
        "  for epoch in range(epochs):\n",
        "    start = time.perf_counter()\n",
        "    for x,y in dataloader:\n",
        "      x = x.to(device)\n",
        "      y = y.to(device)\n",
        "      pred = model(x)\n",
        "      loss = loss_f(pred, y)\n",
        "      optimizer.zero_grad()\n",
        "      loss.backward()\n",
        "      optimizer.step()\n",
        "      del x, y\n",
        "      torch.cuda.empty_cache()\n",
        "      gc.collect()\n",
        "    end = time.perf_counter()\n",
        "    acc = predict(model, loader_valid)\n",
        "    print(epoch + 1,\",\", loss.item(),\",\", end-start,\",\", acc)\n"
      ]
    },
    {
      "cell_type": "code",
      "execution_count": 9,
      "metadata": {
        "colab": {
          "base_uri": "https://localhost:8080/"
        },
        "id": "2VKNrypS9Iye",
        "outputId": "610e6daa-2958-4564-9efe-9eebe5eefa96"
      },
      "outputs": [
        {
          "name": "stdout",
          "output_type": "stream",
          "text": [
            "Num_W: 2  LR: 0.1\n",
            "Epoch, Loss, Time, val_acc\n",
            "1 , 0.38257092237472534 , 57.15927200001897 , 83.45\n"
          ]
        },
        {
          "ename": "KeyboardInterrupt",
          "evalue": "",
          "output_type": "error",
          "traceback": [
            "\u001b[1;31m---------------------------------------------------------------------------\u001b[0m",
            "\u001b[1;31mKeyboardInterrupt\u001b[0m                         Traceback (most recent call last)",
            "Cell \u001b[1;32mIn[9], line 13\u001b[0m\n\u001b[0;32m     11\u001b[0m \u001b[39mprint\u001b[39m(\u001b[39m\"\u001b[39m\u001b[39mNum_W:\u001b[39m\u001b[39m\"\u001b[39m, num_w[i], \u001b[39m\"\u001b[39m\u001b[39m LR:\u001b[39m\u001b[39m\"\u001b[39m, lr[j])\n\u001b[0;32m     12\u001b[0m model \u001b[39m=\u001b[39m ResNet(ResidualBlock, [\u001b[39m2\u001b[39m,\u001b[39m2\u001b[39m,\u001b[39m2\u001b[39m,\u001b[39m2\u001b[39m])\u001b[39m.\u001b[39mto(device)\n\u001b[1;32m---> 13\u001b[0m trainer(epochs ,loader_train ,model, lr[j], loader_valid)\n",
            "Cell \u001b[1;32mIn[8], line 34\u001b[0m, in \u001b[0;36mtrainer\u001b[1;34m(epochs, dataloader, model, lr, loader_valid)\u001b[0m\n\u001b[0;32m     32\u001b[0m   optimizer\u001b[39m.\u001b[39mstep()\n\u001b[0;32m     33\u001b[0m   \u001b[39mdel\u001b[39;00m x, y\n\u001b[1;32m---> 34\u001b[0m   torch\u001b[39m.\u001b[39;49mcuda\u001b[39m.\u001b[39;49mempty_cache()\n\u001b[0;32m     35\u001b[0m   gc\u001b[39m.\u001b[39mcollect()\n\u001b[0;32m     36\u001b[0m end \u001b[39m=\u001b[39m time\u001b[39m.\u001b[39mperf_counter()\n",
            "\u001b[1;31mKeyboardInterrupt\u001b[0m: "
          ]
        }
      ],
      "source": [
        "epochs = 10\n",
        "num_w = [2]\n",
        "lr = [0.1]\n",
        "b_size = 1028\n",
        "\n",
        "for i in range(0,len(num_w)):\n",
        "    loader_train = DataLoader(dataTrain, batch_size=b_size, shuffle=True, num_workers=num_w[i])\n",
        "    loader_valid = DataLoader(dataValid, batch_size=b_size, shuffle=True, num_workers=num_w[i])\n",
        "\n",
        "    for j in range(0, len(lr)):\n",
        "        print(\"Num_W:\", num_w[i], \" LR:\", lr[j])\n",
        "        model = ResNet(ResidualBlock, [2,2,2,2]).to(device)\n",
        "        trainer(epochs ,loader_train ,model, lr[j], loader_valid)"
      ]
    },
    {
      "attachments": {},
      "cell_type": "markdown",
      "metadata": {},
      "source": [
        "Final Output"
      ]
    },
    {
      "cell_type": "code",
      "execution_count": 20,
      "metadata": {},
      "outputs": [],
      "source": [
        "def predict(model, loader_valid):\n",
        "  with torch.no_grad():\n",
        "    correct = 0\n",
        "    total = 0\n",
        "    for x,y in loader_valid:\n",
        "      x = x.to(device)\n",
        "      y = y.to(device)\n",
        "      output = model(x)\n",
        "      _, predicted = torch.max(output.data, 1)\n",
        "      total += y.size(0)\n",
        "      correct += (predicted == y).sum().item()\n",
        "      del x,y,output\n",
        "  return 100*(correct/total)\n",
        "\n",
        "\n",
        "#CLASStorch.optim.SGD(params, lr=<required parameter>, momentum=0, dampening=0, \n",
        "#weight_decay=0, nesterov=False, *, maximize=False, foreach=None, differentiable=False)\n",
        "def trainer(epochs, dataloader, model, lr, loader_valid):\n",
        "  optimizer = torch.optim.SGD(model.parameters(), lr)\n",
        "  scaler = torch.cuda.amp.GradScaler()\n",
        "  loss_f = nn.CrossEntropyLoss()\n",
        "  print(\"Epoch, Loss, Time, val_acc\")\n",
        "\n",
        "  for epoch in range(epochs):\n",
        "    start = time.perf_counter()\n",
        "    for x,y in dataloader:\n",
        "      x = x.to(device)\n",
        "      y = y.to(device)\n",
        "      with torch.cuda.amp.autocast():\n",
        "        pred = model(x)\n",
        "        loss = loss_f(pred, y)\n",
        "      optimizer.zero_grad()\n",
        "      scaler.scale(loss).backward()\n",
        "      scaler.step(optimizer)\n",
        "      scaler.update()\n",
        "      del x, y\n",
        "      torch.cuda.empty_cache()\n",
        "      gc.collect()\n",
        "    end = time.perf_counter()\n",
        "    acc = predict(model, loader_valid)\n",
        "    print(epoch + 1,\",\", loss.item(),\",\", end-start,\",\", acc)"
      ]
    },
    {
      "cell_type": "code",
      "execution_count": 38,
      "metadata": {},
      "outputs": [
        {
          "name": "stdout",
          "output_type": "stream",
          "text": [
            "Num Workers: 3  LR: 0.1\n",
            "Epoch, Loss, Time, val_acc\n",
            "1 , 0.7405751943588257 , 8.531301799986977 , 73.42999999999999\n",
            "2 , 0.4162430465221405 , 7.911559400003171 , 82.87\n",
            "3 , 0.37104809284210205 , 7.915440799988573 , 84.78\n",
            "4 , 0.3938436210155487 , 8.018956500018248 , 85.35000000000001\n",
            "5 , 0.3397643566131592 , 7.939368500025012 , 84.83000000000001\n",
            "6 , 0.2798999845981598 , 7.979829399992013 , 87.16000000000001\n",
            "7 , 0.26615262031555176 , 8.02372060000198 , 87.83999999999999\n",
            "8 , 0.24686041474342346 , 7.987532500002999 , 87.06\n",
            "9 , 0.2520042359828949 , 7.888644099992234 , 88.25\n",
            "10 , 0.22613894939422607 , 7.996164200012572 , 88.64999999999999\n"
          ]
        }
      ],
      "source": [
        "epochs = 10\n",
        "num_w = [3]\n",
        "lr = [0.1]\n",
        "b_size = 4500\n",
        "\n",
        "for i in range(0,len(num_w)):\n",
        "    loader_train = DataLoader(dataTrain, batch_size=b_size, shuffle=True, num_workers=num_w[i])\n",
        "    loader_valid = DataLoader(dataValid, batch_size=b_size, shuffle=True, num_workers=num_w[i])\n",
        "\n",
        "    for j in range(0, len(lr)):\n",
        "        print(\"Num Workers:\", num_w[i], \" LR:\", lr[j])\n",
        "        model = ResNet(ResidualBlock, [2,2,2,2]).to(device)\n",
        "        trainer(epochs ,loader_train ,model, lr[j], loader_valid)"
      ]
    }
  ],
  "metadata": {
    "accelerator": "GPU",
    "colab": {
      "gpuType": "T4",
      "provenance": []
    },
    "gpuClass": "standard",
    "kernelspec": {
      "display_name": "Python 3",
      "name": "python3"
    },
    "language_info": {
      "codemirror_mode": {
        "name": "ipython",
        "version": 3
      },
      "file_extension": ".py",
      "mimetype": "text/x-python",
      "name": "python",
      "nbconvert_exporter": "python",
      "pygments_lexer": "ipython3",
      "version": "3.10.2"
    }
  },
  "nbformat": 4,
  "nbformat_minor": 0
}
