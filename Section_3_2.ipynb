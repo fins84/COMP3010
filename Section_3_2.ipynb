{
  "cells": [
    {
      "attachments": {},
      "cell_type": "markdown",
      "metadata": {},
      "source": [
        "Section_3_2\n",
        "\n",
        "This is the model with the accuracy of 90% (Before target was reduced)"
      ]
    },
    {
      "cell_type": "code",
      "execution_count": 1,
      "metadata": {
        "colab": {
          "base_uri": "https://localhost:8080/"
        },
        "id": "c43HX435pQF9",
        "outputId": "924c7ba1-cb67-4daf-fe26-20058fa1c7ce"
      },
      "outputs": [
        {
          "name": "stdout",
          "output_type": "stream",
          "text": [
            "Requirement already satisfied: torch in c:\\users\\diamo\\appdata\\local\\programs\\python\\python310\\lib\\site-packages (2.0.1+cu117)\n",
            "Requirement already satisfied: filelock in c:\\users\\diamo\\appdata\\local\\programs\\python\\python310\\lib\\site-packages (from torch) (3.9.0)\n",
            "Requirement already satisfied: typing-extensions in c:\\users\\diamo\\appdata\\local\\programs\\python\\python310\\lib\\site-packages (from torch) (4.4.0)\n",
            "Requirement already satisfied: sympy in c:\\users\\diamo\\appdata\\local\\programs\\python\\python310\\lib\\site-packages (from torch) (1.11.1)\n",
            "Requirement already satisfied: networkx in c:\\users\\diamo\\appdata\\local\\programs\\python\\python310\\lib\\site-packages (from torch) (2.8)\n",
            "Requirement already satisfied: jinja2 in c:\\users\\diamo\\appdata\\local\\programs\\python\\python310\\lib\\site-packages (from torch) (3.1.2)\n",
            "Requirement already satisfied: MarkupSafe>=2.0 in c:\\users\\diamo\\appdata\\local\\programs\\python\\python310\\lib\\site-packages (from jinja2->torch) (2.1.2)\n",
            "Requirement already satisfied: mpmath>=0.19 in c:\\users\\diamo\\appdata\\local\\programs\\python\\python310\\lib\\site-packages (from sympy->torch) (1.2.1)\n",
            "Requirement already satisfied: torchvision in c:\\users\\diamo\\appdata\\local\\programs\\python\\python310\\lib\\site-packages (0.15.2+cu117)\n",
            "Requirement already satisfied: numpy in c:\\users\\diamo\\appdata\\local\\programs\\python\\python310\\lib\\site-packages (from torchvision) (1.24.1)\n",
            "Requirement already satisfied: requests in c:\\users\\diamo\\appdata\\local\\programs\\python\\python310\\lib\\site-packages (from torchvision) (2.28.1)\n",
            "Requirement already satisfied: torch==2.0.1 in c:\\users\\diamo\\appdata\\local\\programs\\python\\python310\\lib\\site-packages (from torchvision) (2.0.1+cu117)\n",
            "Requirement already satisfied: pillow!=8.3.*,>=5.3.0 in c:\\users\\diamo\\appdata\\local\\programs\\python\\python310\\lib\\site-packages (from torchvision) (9.1.0)\n",
            "Requirement already satisfied: filelock in c:\\users\\diamo\\appdata\\local\\programs\\python\\python310\\lib\\site-packages (from torch==2.0.1->torchvision) (3.9.0)\n",
            "Requirement already satisfied: typing-extensions in c:\\users\\diamo\\appdata\\local\\programs\\python\\python310\\lib\\site-packages (from torch==2.0.1->torchvision) (4.4.0)\n",
            "Requirement already satisfied: sympy in c:\\users\\diamo\\appdata\\local\\programs\\python\\python310\\lib\\site-packages (from torch==2.0.1->torchvision) (1.11.1)\n",
            "Requirement already satisfied: networkx in c:\\users\\diamo\\appdata\\local\\programs\\python\\python310\\lib\\site-packages (from torch==2.0.1->torchvision) (2.8)\n",
            "Requirement already satisfied: jinja2 in c:\\users\\diamo\\appdata\\local\\programs\\python\\python310\\lib\\site-packages (from torch==2.0.1->torchvision) (3.1.2)\n",
            "Requirement already satisfied: charset-normalizer<3,>=2 in c:\\users\\diamo\\appdata\\local\\programs\\python\\python310\\lib\\site-packages (from requests->torchvision) (2.1.1)\n",
            "Requirement already satisfied: idna<4,>=2.5 in c:\\users\\diamo\\appdata\\local\\programs\\python\\python310\\lib\\site-packages (from requests->torchvision) (3.4)\n",
            "Requirement already satisfied: urllib3<1.27,>=1.21.1 in c:\\users\\diamo\\appdata\\local\\programs\\python\\python310\\lib\\site-packages (from requests->torchvision) (1.26.13)\n",
            "Requirement already satisfied: certifi>=2017.4.17 in c:\\users\\diamo\\appdata\\local\\programs\\python\\python310\\lib\\site-packages (from requests->torchvision) (2022.12.7)\n",
            "Requirement already satisfied: MarkupSafe>=2.0 in c:\\users\\diamo\\appdata\\local\\programs\\python\\python310\\lib\\site-packages (from jinja2->torch==2.0.1->torchvision) (2.1.2)\n",
            "Requirement already satisfied: mpmath>=0.19 in c:\\users\\diamo\\appdata\\local\\programs\\python\\python310\\lib\\site-packages (from sympy->torch==2.0.1->torchvision) (1.2.1)\n",
            "Requirement already satisfied: torchsummary in c:\\users\\diamo\\appdata\\local\\programs\\python\\python310\\lib\\site-packages (1.5.1)\n",
            "Requirement already satisfied: skorch in c:\\users\\diamo\\appdata\\local\\programs\\python\\python310\\lib\\site-packages (0.13.0)\n",
            "Requirement already satisfied: numpy>=1.13.3 in c:\\users\\diamo\\appdata\\local\\programs\\python\\python310\\lib\\site-packages (from skorch) (1.24.1)\n",
            "Requirement already satisfied: scikit-learn>=0.22.0 in c:\\users\\diamo\\appdata\\local\\programs\\python\\python310\\lib\\site-packages (from skorch) (1.2.2)\n",
            "Requirement already satisfied: scipy>=1.1.0 in c:\\users\\diamo\\appdata\\local\\programs\\python\\python310\\lib\\site-packages (from skorch) (1.8.0)\n",
            "Requirement already satisfied: tabulate>=0.7.7 in c:\\users\\diamo\\appdata\\local\\programs\\python\\python310\\lib\\site-packages (from skorch) (0.9.0)\n",
            "Requirement already satisfied: tqdm>=4.14.0 in c:\\users\\diamo\\appdata\\local\\programs\\python\\python310\\lib\\site-packages (from skorch) (4.65.0)\n",
            "Requirement already satisfied: joblib>=1.1.1 in c:\\users\\diamo\\appdata\\local\\programs\\python\\python310\\lib\\site-packages (from scikit-learn>=0.22.0->skorch) (1.2.0)\n",
            "Requirement already satisfied: threadpoolctl>=2.0.0 in c:\\users\\diamo\\appdata\\local\\programs\\python\\python310\\lib\\site-packages (from scikit-learn>=0.22.0->skorch) (3.1.0)\n",
            "Requirement already satisfied: colorama in c:\\users\\diamo\\appdata\\roaming\\python\\python310\\site-packages (from tqdm>=4.14.0->skorch) (0.4.6)\n"
          ]
        }
      ],
      "source": [
        "!pip install torch\n",
        "!pip install torchvision\n",
        "!pip install torchsummary\n",
        "!pip install skorch"
      ]
    },
    {
      "cell_type": "code",
      "execution_count": 2,
      "metadata": {
        "colab": {
          "base_uri": "https://localhost:8080/"
        },
        "id": "Ubt0L3zUpSko",
        "outputId": "55d075fc-81af-404b-d3d3-a3bf3e8451b8"
      },
      "outputs": [
        {
          "name": "stdout",
          "output_type": "stream",
          "text": [
            "cuda\n"
          ]
        }
      ],
      "source": [
        "import numpy as np\n",
        "import torch\n",
        "import torch.nn as nn\n",
        "from torch.optim import optimizer\n",
        "from torchvision import datasets\n",
        "from torchvision import transforms\n",
        "from torch.utils.data.sampler import SubsetRandomSampler\n",
        "from torch.utils.data import DataLoader\n",
        "from torchsummary import summary\n",
        "import gc\n",
        "import time\n",
        "import skorch\n",
        "\n",
        "#from d2l import torch as d2l\n",
        "device = 'cuda' if torch.cuda.is_available() else 'cpu'\n",
        "print(device)"
      ]
    },
    {
      "cell_type": "code",
      "execution_count": 3,
      "metadata": {},
      "outputs": [
        {
          "data": {
            "text/plain": [
              "<torch._C.Generator at 0x208ff8560d0>"
            ]
          },
          "execution_count": 3,
          "metadata": {},
          "output_type": "execute_result"
        }
      ],
      "source": [
        "seed = 0\n",
        "torch.manual_seed(seed)"
      ]
    },
    {
      "cell_type": "code",
      "execution_count": 4,
      "metadata": {
        "id": "7H2hPYfRpV5e"
      },
      "outputs": [],
      "source": [
        "class ResidualBlock(nn.Module):\n",
        "    def __init__(self, in_channels, out_channels, add, stride = 1, downsample = None):\n",
        "        super(ResidualBlock, self).__init__()\n",
        "        self.add = add\n",
        "\n",
        "        self.conv1 = nn.Sequential(\n",
        "                        nn.Conv2d(in_channels, out_channels, kernel_size = 3, stride = stride, padding = 1),\n",
        "                        nn.BatchNorm2d(out_channels),\n",
        "                        nn.ReLU())\n",
        "        self.conv2 = nn.Sequential(\n",
        "                        nn.Conv2d(out_channels, out_channels, kernel_size = 3, stride = 1, padding = 1),\n",
        "                        nn.BatchNorm2d(out_channels))\n",
        "        if self.add:\n",
        "            self.added_layer = self.add_layer(out_channels)\n",
        "        self.downsample = downsample\n",
        "        self.relu = nn.ReLU()\n",
        "        self.out_channels = out_channels\n",
        "\n",
        "    def add_layer(self, planes):\n",
        "        return nn.Sequential(\n",
        "            nn.Conv2d(planes, planes, kernel_size=3, stride=1, padding=1),\n",
        "            nn.BatchNorm2d(planes),\n",
        "            nn.ReLU()\n",
        "        )\n",
        "        \n",
        "    def forward(self, x):\n",
        "        residual = x\n",
        "        out = self.conv1(x)\n",
        "        out = self.conv2(out)\n",
        "        if self.add:\n",
        "            out = self.added_layer(out)\n",
        "        if self.downsample:\n",
        "            residual = self.downsample(x)\n",
        "        out = out + residual\n",
        "        out = self.relu(out)\n",
        "        return out"
      ]
    },
    {
      "cell_type": "code",
      "execution_count": 10,
      "metadata": {
        "id": "m8D39OhlpXxe"
      },
      "outputs": [],
      "source": [
        "class ResNet(nn.Module):\n",
        "    def __init__(self, block, layers, l1, l2, l3, num_classes = 10):\n",
        "        super(ResNet, self).__init__()\n",
        "        self.Dropout = layers[4]\n",
        "        self.inplanes = 64\n",
        "        self.conv1 = nn.Sequential(\n",
        "                        nn.Conv2d(3, 64, kernel_size = 3, stride = 1, padding = 1),\n",
        "                        #nn.Conv2d(3, 64, kernel_size = 7, stride = 2, padding = 3),\n",
        "                        nn.BatchNorm2d(64),\n",
        "                        nn.ReLU()\n",
        "                        )\n",
        "        #self.maxpool = nn.MaxPool2d(kernel_size = 3, stride = 2, padding = 1)\n",
        "        self.layer0 = self._make_layer(block, 32, layers[0], 0, stride = 1)\n",
        "        self.layer1 = self._make_layer(block, 64, layers[1], l1, stride = 2)\n",
        "        self.layer2 = self._make_layer(block, 128, layers[2], l2, stride = 2)\n",
        "        self.layer3 = self._make_layer(block, 256, layers[3], l3, stride = 2)\n",
        "        self.avgpool = nn.AdaptiveAvgPool2d((1,1))\n",
        "        #self.avgpool = nn.AvgPool2d(7,stride=1)\n",
        "        self.fc = nn.Linear(256, num_classes)\n",
        "        \n",
        "    def _make_layer(self, block, planes, blocks, add_layer, stride=1):\n",
        "        downsample = None\n",
        "        if stride != 1 or self.inplanes != planes:\n",
        "            \n",
        "            downsample = nn.Sequential(\n",
        "                nn.Conv2d(self.inplanes, planes, kernel_size=1, stride=stride),\n",
        "                nn.BatchNorm2d(planes),\n",
        "            )\n",
        "        layers = []\n",
        "        layers.append(block(self.inplanes, planes, add_layer, stride, downsample))\n",
        "        self.inplanes = planes\n",
        "        for i in range(1, blocks):\n",
        "            layers.append(block(self.inplanes, planes, add_layer))\n",
        "\n",
        "        return nn.Sequential(*layers)\n",
        "    \n",
        "    def forward(self, x):\n",
        "        x = self.conv1(x)\n",
        "        #x = self.maxpool(x)\n",
        "        x = self.layer0(x)\n",
        "        #x = self.drop1(x)\n",
        "        x = self.layer1(x)\n",
        "        #x = self.drop2(x)\n",
        "        x = self.layer2(x)\n",
        "        #x = self.drop3(x)\n",
        "        x = self.layer3(x)\n",
        "        \n",
        "        x = self.avgpool(x)\n",
        "        x = x.view(x.size(0), -1)\n",
        "        x = self.fc(x)\n",
        "\n",
        "        return x"
      ]
    },
    {
      "cell_type": "code",
      "execution_count": 11,
      "metadata": {
        "colab": {
          "base_uri": "https://localhost:8080/"
        },
        "id": "UuJ26a_qrrUe",
        "outputId": "4afcedbb-0282-4572-dfa7-a2fce6c79cf7"
      },
      "outputs": [
        {
          "name": "stdout",
          "output_type": "stream",
          "text": [
            "----------------------------------------------------------------\n",
            "        Layer (type)               Output Shape         Param #\n",
            "================================================================\n",
            "            Conv2d-1           [-1, 64, 32, 32]           1,792\n",
            "       BatchNorm2d-2           [-1, 64, 32, 32]             128\n",
            "              ReLU-3           [-1, 64, 32, 32]               0\n",
            "            Conv2d-4           [-1, 32, 32, 32]          18,464\n",
            "       BatchNorm2d-5           [-1, 32, 32, 32]              64\n",
            "              ReLU-6           [-1, 32, 32, 32]               0\n",
            "            Conv2d-7           [-1, 32, 32, 32]           9,248\n",
            "       BatchNorm2d-8           [-1, 32, 32, 32]              64\n",
            "            Conv2d-9           [-1, 32, 32, 32]           2,080\n",
            "      BatchNorm2d-10           [-1, 32, 32, 32]              64\n",
            "             ReLU-11           [-1, 32, 32, 32]               0\n",
            "    ResidualBlock-12           [-1, 32, 32, 32]               0\n",
            "           Conv2d-13           [-1, 32, 32, 32]           9,248\n",
            "      BatchNorm2d-14           [-1, 32, 32, 32]              64\n",
            "             ReLU-15           [-1, 32, 32, 32]               0\n",
            "           Conv2d-16           [-1, 32, 32, 32]           9,248\n",
            "      BatchNorm2d-17           [-1, 32, 32, 32]              64\n",
            "             ReLU-18           [-1, 32, 32, 32]               0\n",
            "    ResidualBlock-19           [-1, 32, 32, 32]               0\n",
            "           Conv2d-20           [-1, 64, 16, 16]          18,496\n",
            "      BatchNorm2d-21           [-1, 64, 16, 16]             128\n",
            "             ReLU-22           [-1, 64, 16, 16]               0\n",
            "           Conv2d-23           [-1, 64, 16, 16]          36,928\n",
            "      BatchNorm2d-24           [-1, 64, 16, 16]             128\n",
            "           Conv2d-25           [-1, 64, 16, 16]           2,112\n",
            "      BatchNorm2d-26           [-1, 64, 16, 16]             128\n",
            "             ReLU-27           [-1, 64, 16, 16]               0\n",
            "    ResidualBlock-28           [-1, 64, 16, 16]               0\n",
            "           Conv2d-29           [-1, 64, 16, 16]          36,928\n",
            "      BatchNorm2d-30           [-1, 64, 16, 16]             128\n",
            "             ReLU-31           [-1, 64, 16, 16]               0\n",
            "           Conv2d-32           [-1, 64, 16, 16]          36,928\n",
            "      BatchNorm2d-33           [-1, 64, 16, 16]             128\n",
            "             ReLU-34           [-1, 64, 16, 16]               0\n",
            "    ResidualBlock-35           [-1, 64, 16, 16]               0\n",
            "           Conv2d-36            [-1, 128, 8, 8]          73,856\n",
            "      BatchNorm2d-37            [-1, 128, 8, 8]             256\n",
            "             ReLU-38            [-1, 128, 8, 8]               0\n",
            "           Conv2d-39            [-1, 128, 8, 8]         147,584\n",
            "      BatchNorm2d-40            [-1, 128, 8, 8]             256\n",
            "           Conv2d-41            [-1, 128, 8, 8]           8,320\n",
            "      BatchNorm2d-42            [-1, 128, 8, 8]             256\n",
            "             ReLU-43            [-1, 128, 8, 8]               0\n",
            "    ResidualBlock-44            [-1, 128, 8, 8]               0\n",
            "           Conv2d-45            [-1, 128, 8, 8]         147,584\n",
            "      BatchNorm2d-46            [-1, 128, 8, 8]             256\n",
            "             ReLU-47            [-1, 128, 8, 8]               0\n",
            "           Conv2d-48            [-1, 128, 8, 8]         147,584\n",
            "      BatchNorm2d-49            [-1, 128, 8, 8]             256\n",
            "             ReLU-50            [-1, 128, 8, 8]               0\n",
            "    ResidualBlock-51            [-1, 128, 8, 8]               0\n",
            "           Conv2d-52            [-1, 256, 4, 4]         295,168\n",
            "      BatchNorm2d-53            [-1, 256, 4, 4]             512\n",
            "             ReLU-54            [-1, 256, 4, 4]               0\n",
            "           Conv2d-55            [-1, 256, 4, 4]         590,080\n",
            "      BatchNorm2d-56            [-1, 256, 4, 4]             512\n",
            "           Conv2d-57            [-1, 256, 4, 4]          33,024\n",
            "      BatchNorm2d-58            [-1, 256, 4, 4]             512\n",
            "             ReLU-59            [-1, 256, 4, 4]               0\n",
            "    ResidualBlock-60            [-1, 256, 4, 4]               0\n",
            "           Conv2d-61            [-1, 256, 4, 4]         590,080\n",
            "      BatchNorm2d-62            [-1, 256, 4, 4]             512\n",
            "             ReLU-63            [-1, 256, 4, 4]               0\n",
            "           Conv2d-64            [-1, 256, 4, 4]         590,080\n",
            "      BatchNorm2d-65            [-1, 256, 4, 4]             512\n",
            "             ReLU-66            [-1, 256, 4, 4]               0\n",
            "    ResidualBlock-67            [-1, 256, 4, 4]               0\n",
            "AdaptiveAvgPool2d-68            [-1, 256, 1, 1]               0\n",
            "           Linear-69                   [-1, 10]           2,570\n",
            "================================================================\n",
            "Total params: 2,812,330\n",
            "Trainable params: 2,812,330\n",
            "Non-trainable params: 0\n",
            "----------------------------------------------------------------\n",
            "Input size (MB): 0.01\n",
            "Forward/backward pass size (MB): 9.00\n",
            "Params size (MB): 10.73\n",
            "Estimated Total Size (MB): 19.74\n",
            "----------------------------------------------------------------\n"
          ]
        }
      ],
      "source": [
        "model = ResNet(ResidualBlock, [2,2,2,2,0.1], 0,0,0).to(device)\n",
        "summary(model, (3, 32, 32))\n"
      ]
    },
    {
      "cell_type": "code",
      "execution_count": 7,
      "metadata": {
        "colab": {
          "base_uri": "https://localhost:8080/"
        },
        "id": "xGeoETrjY6Ig",
        "outputId": "cc93a4e9-ab4c-4a7f-d261-6d97d78e1627"
      },
      "outputs": [
        {
          "name": "stdout",
          "output_type": "stream",
          "text": [
            "Files already downloaded and verified\n",
            "Files already downloaded and verified\n",
            "3\n"
          ]
        }
      ],
      "source": [
        "imsize = 32\n",
        "transform = transforms.Compose([\n",
        "    transforms.ToTensor(),\n",
        "    transforms.Resize((imsize,imsize), antialias=True),\n",
        "    #transforms.Grayscale(num_output_channels=1)\n",
        "    transforms.RandomHorizontalFlip()\n",
        "])\n",
        "\n",
        "dataTrain = datasets.CIFAR10(\n",
        "    root=\"dataset\",\n",
        "    train=True,\n",
        "    download=True,\n",
        "    transform=transform\n",
        ")\n",
        "dataValid = datasets.CIFAR10(\n",
        "    root=\"dataset\",\n",
        "    train=False,\n",
        "    download=True,\n",
        "    transform=transform\n",
        ")\n",
        "\n",
        "\n",
        "print(len(dataValid[0][0]))\n",
        "\n",
        "valid_y = np.array([y for x,y in iter(dataValid)])\n",
        "test_y = np.array([y for x,y in iter(dataTrain)])"
      ]
    },
    {
      "attachments": {},
      "cell_type": "markdown",
      "metadata": {},
      "source": [
        "Trainer\n",
        "Learning Rate Scheduler Version"
      ]
    },
    {
      "cell_type": "code",
      "execution_count": 12,
      "metadata": {},
      "outputs": [],
      "source": [
        "def trainer(epochs, dataloader, model, lr, loader_valid, decay, mom, batch):\n",
        "  optimizer = torch.optim.SGD(model.parameters(), lr=lr, weight_decay=decay, momentum=mom)\n",
        "  #scheduler = torch.optim.lr_scheduler.ReduceLROnPlateau(optimizer, 'max')\n",
        "  scheduler = torch.optim.lr_scheduler.OneCycleLR(optimizer,max_lr=lr, steps_per_epoch=((50000//batch) + 1), epochs=epochs,anneal_strategy='linear')\n",
        "  scaler = torch.cuda.amp.GradScaler()\n",
        "  loss_f = nn.CrossEntropyLoss()\n",
        "  print(\"Epoch, Loss, Time, val_acc\")\n",
        "  correct = 0\n",
        "  processed = 0\n",
        "\n",
        "  for epoch in range(epochs):\n",
        "    start = time.perf_counter()\n",
        "    for x,y in dataloader:\n",
        "      x = x.to(device)\n",
        "      y = y.to(device)\n",
        "      with torch.cuda.amp.autocast():\n",
        "        pred = model(x)\n",
        "        loss = loss_f(pred, y)\n",
        "      optimizer.zero_grad()\n",
        "      scaler.scale(loss).backward()\n",
        "      scaler.step(optimizer)\n",
        "      scaler.update()\n",
        "      scheduler.step()\n",
        "      #print(scheduler.get_last_lr())\n",
        "\n",
        "      pred = pred.argmax(dim=1, keepdim=True)\n",
        "      correct += pred.eq(y.view_as(pred)).sum().item()\n",
        "      processed += len(x)\n",
        "\n",
        "      del x, y\n",
        "      torch.cuda.empty_cache()\n",
        "      gc.collect()\n",
        "    end = time.perf_counter()\n",
        "\n",
        "    train_acc = 100*(correct/processed)\n",
        "    acc = predict(model, loader_valid, loss_f,scheduler)\n",
        "    print(epoch + 1,\",\", loss.item(),\",\", end-start,\",\", acc, \",\", train_acc)\n",
        "\n",
        "\n",
        "def predict(model, loader_valid, loss_f,scheduler):\n",
        "  with torch.no_grad():\n",
        "    #t_loss=0\n",
        "    correct = 0\n",
        "    total = 0\n",
        "    for x,y in loader_valid:\n",
        "      x = x.to(device)\n",
        "      y = y.to(device)\n",
        "      output = model(x)\n",
        "      loss = loss_f(output, y)\n",
        "      #t_loss += loss.item()\n",
        "      _, predicted = torch.max(output.data, 1)\n",
        "      total += y.size(0)\n",
        "      correct += (predicted == y).sum().item()\n",
        "      del x,y,output\n",
        "    #scheduler.step(t_loss)\n",
        "  return 100*(correct/total)"
      ]
    },
    {
      "cell_type": "code",
      "execution_count": 13,
      "metadata": {},
      "outputs": [
        {
          "name": "stdout",
          "output_type": "stream",
          "text": [
            "Decay: 0.01  LR: 0.075\n",
            "Epoch, Loss, Time, val_acc\n",
            "1 , 1.5375926494598389 , 21.190826200006995 , 45.58 , 30.620000000000005\n",
            "2 , 1.0904489755630493 , 21.286402500001714 , 59.43000000000001 , 42.14\n",
            "3 , 0.9631534814834595 , 20.795053799985908 , 66.64 , 49.25066666666667\n",
            "4 , 0.7235575318336487 , 19.620573899999727 , 74.19 , 55.0365\n",
            "5 , 0.6166045069694519 , 19.993272799998522 , 76.31 , 59.3692\n",
            "6 , 0.5690386891365051 , 20.252690799999982 , 78.89 , 62.842\n",
            "7 , 0.5364925265312195 , 20.15446340001654 , 80.16 , 65.54514285714286\n",
            "8 , 0.5084064602851868 , 20.135452999995323 , 82.19999999999999 , 67.7795\n",
            "9 , 0.44945192337036133 , 20.169335100013996 , 82.16 , 69.65377777777778\n",
            "10 , 0.4486502408981323 , 20.166976699983934 , 82.85 , 71.2496\n",
            "11 , 0.4481603503227234 , 20.03406289999839 , 84.84 , 72.67290909090909\n",
            "12 , 0.40605735778808594 , 19.989660999999614 , 83.61 , 73.88033333333334\n",
            "13 , 0.35484829545021057 , 20.00828320000437 , 83.94 , 74.95461538461538\n",
            "14 , 0.3584369421005249 , 20.216979400021955 , 85.05 , 75.95914285714287\n",
            "15 , 0.3652181029319763 , 20.110074199998053 , 85.02 , 76.84306666666667\n",
            "16 , 0.3288005590438843 , 20.057250599988038 , 86.65 , 77.70949999999999\n",
            "17 , 0.2576788663864136 , 20.040717900003074 , 87.26 , 78.54788235294117\n",
            "18 , 0.22265832126140594 , 20.12628009999753 , 88.29 , 79.38222222222223\n",
            "19 , 0.15733616054058075 , 20.103161600010935 , 88.99000000000001 , 80.22557894736842\n",
            "20 , 0.08037930727005005 , 20.156879000016488 , 90.12 , 81.1018\n"
          ]
        }
      ],
      "source": [
        "epochs = 20\n",
        "num_w = 2\n",
        "lr = [0.075]\n",
        "Dropout = 0.0\n",
        "b_size = [1024]\n",
        "mom = 0.5\n",
        "decay = [0.01]\n",
        "\n",
        "for i in range(0,len(b_size)):\n",
        "    loader_train = DataLoader(dataTrain, batch_size=b_size[i], shuffle=True, num_workers=num_w)\n",
        "    loader_valid = DataLoader(dataValid, batch_size=b_size[i], shuffle=True, num_workers=num_w)\n",
        "\n",
        "    for j in range(0, len(lr)):\n",
        "        for k in range(0, len(decay)):\n",
        "            print(\"Decay:\", decay[k], \" LR:\", lr[j])\n",
        "            model = ResNet(ResidualBlock, [2,2,2,2,Dropout], 0,0,0).to(device)\n",
        "            trainer(epochs ,loader_train ,model, lr[j], loader_valid, decay[k], mom, b_size[i])"
      ]
    }
  ],
  "metadata": {
    "accelerator": "GPU",
    "colab": {
      "gpuType": "T4",
      "provenance": []
    },
    "gpuClass": "standard",
    "kernelspec": {
      "display_name": "Python 3",
      "name": "python3"
    },
    "language_info": {
      "codemirror_mode": {
        "name": "ipython",
        "version": 3
      },
      "file_extension": ".py",
      "mimetype": "text/x-python",
      "name": "python",
      "nbconvert_exporter": "python",
      "pygments_lexer": "ipython3",
      "version": "3.10.2"
    }
  },
  "nbformat": 4,
  "nbformat_minor": 0
}
